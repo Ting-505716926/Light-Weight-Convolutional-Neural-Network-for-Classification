{
 "cells": [
  {
   "cell_type": "code",
   "execution_count": null,
   "metadata": {},
   "outputs": [],
   "source": [
    "import os\n",
    "import cv2\n",
    "import numpy as np\n",
    "import pandas as pd\n",
    "import tensorflow as tf\n",
    "from matplotlib import pyplot as plt"
   ]
  },
  {
   "cell_type": "code",
   "execution_count": null,
   "metadata": {},
   "outputs": [],
   "source": [
    "from utils.gradcam import GradCAM, overlay_gradCAM"
   ]
  },
  {
   "cell_type": "markdown",
   "metadata": {},
   "source": [
    "## Load IMG"
   ]
  },
  {
   "cell_type": "code",
   "execution_count": null,
   "metadata": {},
   "outputs": [],
   "source": [
    "# 模型參數設定\n",
    "# MobileNetV3Large、 MobileNetV3Small、CustomizeLarge、 CustomizeSmall, \n",
    "backbone = ['CustomizeLarge', 'CustomizeSmall']\n",
    "# SE CBAM CA\n",
    "SE_CBAM_CA = ['SE', 'CBAM', 'CA']\n",
    "# Adam RMSprop CLR\n",
    "LR_mode = 'Adam'\n",
    "\n",
    "# 100 Bird Species  or  325 Bird Species  or  cifar100  or  cifar10\n",
    "Dataset = \"325 Bird Species\""
   ]
  },
  {
   "cell_type": "code",
   "execution_count": null,
   "metadata": {},
   "outputs": [],
   "source": [
    "gradcam = []\n",
    "models =[]\n",
    "for bb in backbone:\n",
    "    for attention in SE_CBAM_CA:\n",
    "        model_dir = './weights/{0}/{1}_{2}_{3}/best_model'.format(bb, attention, LR_mode, Dataset)\n",
    "        print(model_dir)\n",
    "        models.append(tf.keras.models.load_model(model_dir))\n",
    "        print('model load.')"
   ]
  },
  {
   "cell_type": "code",
   "execution_count": null,
   "metadata": {},
   "outputs": [],
   "source": [
    "# models[0].summary()\n",
    "brid_pd = pd.read_csv('./Dataset/325 Bird Species/class_dict.csv')\n",
    "brid_label = brid_pd['class']"
   ]
  },
  {
   "cell_type": "code",
   "execution_count": null,
   "metadata": {},
   "outputs": [],
   "source": [
    "brid_name = 'AFRICAN FIREFINCH'\n",
    "img = cv2.imread('Dataset/325 Bird Species/train/{0}/020.jpg'.format(brid_name))\n",
    "img = cv2.cvtColor(img, cv2.COLOR_BGR2RGB)\n",
    "upsample_size = (img.shape[0],img.shape[1])\n",
    "print(upsample_size)\n",
    "pred_img = tf.image.resize(img,(224,224))\n",
    "pred_img = tf.reshape(pred_img, (1,224,224,3))\n",
    "pred_img = tf.cast(pred_img, dtype=tf.float32)/255"
   ]
  },
  {
   "cell_type": "code",
   "execution_count": null,
   "metadata": {},
   "outputs": [],
   "source": [
    "lagers_name = [\"CSP1_concatenate\", \n",
    "               \"CSP2_concatenate\", \n",
    "               \"CSP3_concatenate\", \n",
    "               \"CSP4_concatenate\", \n",
    "               \"CSP5_concatenate\",\n",
    "               'Conv2',\n",
    "               \"Conv2hardswish\", \n",
    "               'Conv3',\n",
    "               \"Conv3hardswish\"]\n",
    "\n",
    "for layer_name in lagers_name:\n",
    "    gradcam = []\n",
    "    # 類別、分數\n",
    "    result = [[],[]]\n",
    "    for model in models:\n",
    "        gradCAM = GradCAM(model=model, layerName=layer_name)\n",
    "        pred = model.predict(pred_img)\n",
    "        idx = pred.argmax()\n",
    "        classIdx = tf.cast(pred.max(),dtype=tf.int32)\n",
    "        \n",
    "        # print(idx, pred[:,idx])\n",
    "        result[1].append(pred[:,idx][0])\n",
    "        result[0].append(idx)\n",
    "\n",
    "        cam3 = gradCAM.compute_heatmap(image=pred_img, classIdx=classIdx, upsample_size=upsample_size)\n",
    "\n",
    "        gradcam.append(cv2.cvtColor(overlay_gradCAM(img, cam3), cv2.COLOR_BGR2RGB))\n",
    "        \n",
    "    # ---------------------show grad-cam-------------------\n",
    "    print('layer_name:', layer_name)\n",
    "    \n",
    "    attention = ['SE','CBAM','CA']\n",
    "    plt.figure(num='gradcam',figsize=(15,15))\n",
    "    i=0\n",
    "    j=0\n",
    "    for index,gcam in enumerate(gradcam):\n",
    "        plt.subplot(len(backbone),len(attention),index+1)\n",
    "        plt.title(backbone[i]+\"_\"+attention[j]+'\\n'+'{0}:{1:4f}'.format(brid_label[result[0][index]],result[1][index]))\n",
    "        plt.imshow(gcam)\n",
    "        j+=1\n",
    "        if (index+1) % 3 == 0:\n",
    "            i+=1\n",
    "            j=0\n",
    "    plt.show()"
   ]
  },
  {
   "cell_type": "markdown",
   "metadata": {},
   "source": [
    "# Save per classes heatmap"
   ]
  },
  {
   "cell_type": "code",
   "execution_count": null,
   "metadata": {},
   "outputs": [],
   "source": [
    "classes = 50\n",
    "\n",
    "for num in range(classes):\n",
    "    brid_name = brid_label[num]\n",
    "    img = cv2.imread('Dataset/325 Bird Species/train/{0}/001.jpg'.format(brid_name))\n",
    "    img = cv2.cvtColor(img, cv2.COLOR_BGR2RGB)\n",
    "    upsample_size = (img.shape[0],img.shape[1])\n",
    "    pred_img = tf.image.resize(img,(224,224))\n",
    "    pred_img = tf.reshape(pred_img, (1,224,224,3))\n",
    "    pred_img = tf.cast(pred_img, dtype=tf.float32)/255\n",
    "    \n",
    "    lagers_name = [\"CSP1_concatenate\", \n",
    "                    \"CSP2_concatenate\", \n",
    "                    \"CSP3_concatenate\", \n",
    "                    \"CSP4_concatenate\", \n",
    "                    \"CSP5_concatenate\",\n",
    "                    'Conv2',\n",
    "                    \"Conv2hardswish\", \n",
    "                    'Conv3',\n",
    "                    \"Conv3hardswish\"\n",
    "            ]\n",
    "\n",
    "    for layer_name in lagers_name:\n",
    "        gradcam = []\n",
    "        # 類別、分數\n",
    "        result = [[],[]]\n",
    "        for model in models:\n",
    "            gradCAM = GradCAM(model=model, layerName=layer_name)\n",
    "            pred = model.predict(pred_img)\n",
    "            idx = pred.argmax()\n",
    "            classIdx = idx\n",
    "            \n",
    "            # print(idx, pred[:,idx])\n",
    "            result[1].append(pred[:,idx][0])\n",
    "            result[0].append(idx)\n",
    "\n",
    "            cam3 = gradCAM.compute_heatmap(image=pred_img, classIdx=classIdx, upsample_size=upsample_size)\n",
    "\n",
    "            gradcam.append(cv2.cvtColor(overlay_gradCAM(img, cam3), cv2.COLOR_BGR2RGB))\n",
    "            \n",
    "        # ---------------------show grad-cam-------------------\n",
    "        # print('layer_name:', layer_name)\n",
    "        \n",
    "        attention = ['SE','CBAM','CA']\n",
    "        plt.figure(num='gradcam',figsize=(16,9))\n",
    "\n",
    "        \n",
    "        i=0\n",
    "        j=0\n",
    "        for index,gcam in enumerate(gradcam):\n",
    "            plt.subplot(len(backbone),len(attention),index+1)\n",
    "            plt.title(backbone[i]+\"_\"+attention[j]+'\\n'+'{0}:{1:4f}'.format(brid_label[result[0][index]],result[1][index]))\n",
    "            plt.axis('off')\n",
    "            plt.imshow(gcam)\n",
    "            j+=1\n",
    "            if (index+1) % 3 == 0:\n",
    "                i+=1\n",
    "                j=0\n",
    "        \n",
    "        output_dir = './result/gradcam/'+ brid_label[num]          \n",
    "        if not os.path.isdir(output_dir):\n",
    "            os.makedirs(output_dir)\n",
    "            \n",
    "        plt.savefig(output_dir + '/{0}.png'.format(layer_name),\n",
    "                    dpi = 300,\n",
    "                    facecolor='white',\n",
    "                    bbox_inches = 'tight',\n",
    "                    # pad_inches = 0,\n",
    "                    )\n",
    "        \n",
    "        plt.close()\n",
    "        # plt.show()"
   ]
  },
  {
   "cell_type": "code",
   "execution_count": null,
   "metadata": {},
   "outputs": [],
   "source": []
  }
 ],
 "metadata": {
  "kernelspec": {
   "display_name": "Python 3.8.5 ('tf26')",
   "language": "python",
   "name": "python3"
  },
  "language_info": {
   "codemirror_mode": {
    "name": "ipython",
    "version": 3
   },
   "file_extension": ".py",
   "mimetype": "text/x-python",
   "name": "python",
   "nbconvert_exporter": "python",
   "pygments_lexer": "ipython3",
   "version": "3.8.5"
  },
  "orig_nbformat": 4,
  "vscode": {
   "interpreter": {
    "hash": "a480b68b8c343a8999e692c3d6d2f5bf9e4da97c94672fb67f8d413f9dcb69e4"
   }
  }
 },
 "nbformat": 4,
 "nbformat_minor": 2
}
