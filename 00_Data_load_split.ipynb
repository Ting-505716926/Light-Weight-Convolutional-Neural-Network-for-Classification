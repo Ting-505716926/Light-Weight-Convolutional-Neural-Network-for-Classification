{
 "cells": [
  {
   "cell_type": "code",
   "execution_count": 1,
   "id": "6d4d228e",
   "metadata": {},
   "outputs": [],
   "source": [
    "import os\n",
    "import shutil"
   ]
  },
  {
   "cell_type": "markdown",
   "id": "e1a886d4",
   "metadata": {},
   "source": [
    "# Trainset-CUB_200_2010"
   ]
  },
  {
   "cell_type": "code",
   "execution_count": 2,
   "id": "85c92f41",
   "metadata": {},
   "outputs": [],
   "source": [
    "path_1 = r'D:\\Data\\加州理工學院_鳥類2010\\lists\\lists\\train.txt'\n",
    "path_2 = 'D:/Data/加州理工學院_鳥類2010/images/images/'\n",
    "path_3 = 'D:/畢業門檻/會議論文/Code/Dataset/train/'"
   ]
  },
  {
   "cell_type": "code",
   "execution_count": 3,
   "id": "35374d5a",
   "metadata": {},
   "outputs": [],
   "source": [
    "f = open(path_1, 'r')"
   ]
  },
  {
   "cell_type": "code",
   "execution_count": 4,
   "id": "fd5436ea",
   "metadata": {},
   "outputs": [],
   "source": [
    "for i in f.readlines():\n",
    "    os.makedirs(os.path.dirname(path_3+i[:-1]), exist_ok=True)\n",
    "    shutil.copyfile(path_2+i[:-1], path_3+i[:-1])\n",
    "f.close()"
   ]
  },
  {
   "cell_type": "markdown",
   "id": "1309888e",
   "metadata": {},
   "source": [
    "# Testset-CUB_200_2010"
   ]
  },
  {
   "cell_type": "code",
   "execution_count": 4,
   "id": "e72b2e34",
   "metadata": {},
   "outputs": [],
   "source": [
    "path_1 = r'D:\\Data\\加州理工學院_鳥類2010\\lists\\lists\\test.txt'\n",
    "path_2 = 'D:/Data/加州理工學院_鳥類2010/images/images/'\n",
    "path_3 = 'D:/畢業門檻/會議論文/Code/Dataset/test/'"
   ]
  },
  {
   "cell_type": "code",
   "execution_count": 5,
   "id": "5083ac8f",
   "metadata": {},
   "outputs": [],
   "source": [
    "f = open(path_1, 'r')"
   ]
  },
  {
   "cell_type": "code",
   "execution_count": 6,
   "id": "81a67670",
   "metadata": {},
   "outputs": [],
   "source": [
    "for i in f.readlines():\n",
    "    os.makedirs(os.path.dirname(path_3+i[:-1]), exist_ok=True)\n",
    "    shutil.copyfile(path_2+i[:-1], path_3+i[:-1])\n",
    "f.close()"
   ]
  },
  {
   "cell_type": "markdown",
   "id": "ac0e6f45",
   "metadata": {},
   "source": [
    "# Testset-CUB_200_2011"
   ]
  },
  {
   "cell_type": "code",
   "execution_count": 13,
   "id": "31ced190",
   "metadata": {},
   "outputs": [],
   "source": [
    "path_1 = \"D:/Data/加州理工學院_鳥類2011/CUB_200_2011/CUB_200_2011/images.txt\"\n",
    "path_2 = \"D:/Data/加州理工學院_鳥類2011/CUB_200_2011/CUB_200_2011/train_test_split.txt\"\n",
    "path_3 = \"D:/Data/加州理工學院_鳥類2011/CUB_200_2011/CUB_200_2011/images/\"\n",
    "path_4 = 'D:/畢業門檻/會議論文/Code/Dataset/'"
   ]
  },
  {
   "cell_type": "code",
   "execution_count": 14,
   "id": "6d662d4a",
   "metadata": {},
   "outputs": [],
   "source": [
    "with open(path_1) as f1:\n",
    "    lines_1 = f1.readlines()\n",
    "with open(path_2) as f2:\n",
    "    lines_2 = f2.readlines()"
   ]
  },
  {
   "cell_type": "code",
   "execution_count": 16,
   "id": "f0a30d16",
   "metadata": {},
   "outputs": [],
   "source": [
    "for i in range(0,len(lines_1)):\n",
    "    file = lines_1[i].split(' ')[1][:-1]\n",
    "    # train : 0, test : 1\n",
    "    train_or_test = lines_2[i].split(' ')[1][:-1]\n",
    "    \n",
    "    if train_or_test == '0':\n",
    "        os.makedirs(os.path.dirname(path_4+ 'train/' + file), exist_ok=True)\n",
    "        shutil.copyfile(path_3 + file, path_4 + 'train/' + file)\n",
    "    elif train_or_test == '1':\n",
    "        os.makedirs(os.path.dirname(path_4 + 'test/' + file), exist_ok=True)\n",
    "        shutil.copyfile(path_3+file, path_4 + 'test/' + file)"
   ]
  }
 ],
 "metadata": {
  "kernelspec": {
   "display_name": "Python 3 (ipykernel)",
   "language": "python",
   "name": "python3"
  },
  "language_info": {
   "codemirror_mode": {
    "name": "ipython",
    "version": 3
   },
   "file_extension": ".py",
   "mimetype": "text/x-python",
   "name": "python",
   "nbconvert_exporter": "python",
   "pygments_lexer": "ipython3",
   "version": "3.9.7"
  }
 },
 "nbformat": 4,
 "nbformat_minor": 5
}
