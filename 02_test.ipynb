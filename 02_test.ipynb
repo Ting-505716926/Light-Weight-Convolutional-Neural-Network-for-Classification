{
 "cells": [
  {
   "cell_type": "code",
   "execution_count": 324,
   "metadata": {},
   "outputs": [],
   "source": [
    "import csv\n",
    "import numpy as np\n",
    "import pandas as pd\n",
    "import tensorflow as tf\n",
    "from matplotlib import pyplot as plt"
   ]
  },
  {
   "cell_type": "code",
   "execution_count": 325,
   "metadata": {},
   "outputs": [],
   "source": [
    "from tensorflow.keras.preprocessing.image import ImageDataGenerator\n",
    "from tensorflow.keras.utils import plot_model"
   ]
  },
  {
   "cell_type": "code",
   "execution_count": 326,
   "metadata": {},
   "outputs": [],
   "source": [
    "from sklearn.metrics import classification_report, confusion_matrix\n",
    "from IPython.display import SVG\n",
    "from sklearn.metrics import roc_curve,roc_auc_score"
   ]
  },
  {
   "cell_type": "code",
   "execution_count": 327,
   "metadata": {},
   "outputs": [],
   "source": [
    "from utils.DataGenerator import load_data\n",
    "from utils.Flops import get_flops"
   ]
  },
  {
   "cell_type": "code",
   "execution_count": 328,
   "metadata": {},
   "outputs": [],
   "source": [
    "import os\n",
    "# os.environ[\"CUDA_VISIBLE_DEVICES\"]=\"-1\""
   ]
  },
  {
   "cell_type": "code",
   "execution_count": 329,
   "metadata": {},
   "outputs": [],
   "source": [
    "# 模型參數設定\n",
    "# MobileNetV3Large、 MobileNetV3Small、CustomizeLarge、 CustomizeSmall, \n",
    "backbone = 'CustomizeSmall'\n",
    "# SE CBAM CA\n",
    "SE_CBAM_CA = 'CA'\n",
    "# Adam RMSprop CLR\n",
    "LR_mode = 'Adam'"
   ]
  },
  {
   "cell_type": "code",
   "execution_count": 330,
   "metadata": {},
   "outputs": [
    {
     "name": "stdout",
     "output_type": "stream",
     "text": [
      "Found 47332 images belonging to 325 classes.\n",
      "Found 1625 images belonging to 325 classes.\n",
      "Found 1625 images belonging to 325 classes.\n"
     ]
    }
   ],
   "source": [
    "# 100 Bird Species  or  325 Bird Species  or  cifar100  or  cifar10\n",
    "Dataset = \"325 Bird Species\"\n",
    "BATCH_SIZE = 1\n",
    "\n",
    "if Dataset == \"325 Bird Species\":\n",
    "    dir = \"./Dataset/325 Bird Species/\"\n",
    "    input_shape = (224,224,3)\n",
    "    num_classes = 325\n",
    "    trainset, valset, testset = load_data(Dataset, dir, input_shape, BATCH_SIZE)\n",
    "    \n",
    "elif Dataset == \"100 Bird Species\":\n",
    "    dir = \"./Dataset/100 Bird Species/\"\n",
    "    input_shape = (224,224,3)\n",
    "    num_classes = 100\n",
    "    trainset, valset, testset = load_data(Dataset, dir, input_shape, BATCH_SIZE)\n",
    "    \n",
    "elif Dataset == \"cifar100\":\n",
    "    input_shape = (32,32,3)\n",
    "    num_classes = 100\n",
    "    datagen_train, datagen_val, x_train, y_train, x_val, y_val, x_test, y_test = load_data(Dataset, '', input_shape, num_classes)\n",
    "    x_train = x_train/255\n",
    "    x_val = x_val/255\n",
    "    x_test =x_test/255\n",
    "    \n",
    "elif Dataset == \"cifar10\":\n",
    "    input_shape = (32,32,3)\n",
    "    num_classes = 10\n",
    "    datagen_train, datagen_val, x_train, y_train, x_val, y_val, x_test, y_test= load_data(Dataset, '', input_shape, num_classes)\n",
    "    x_train = x_train/255\n",
    "    x_val = x_val/255\n",
    "    x_test =x_test/255"
   ]
  },
  {
   "cell_type": "code",
   "execution_count": 331,
   "metadata": {},
   "outputs": [
    {
     "name": "stdout",
     "output_type": "stream",
     "text": [
      "Found 1625 images belonging to 325 classes.\n",
      "stepNum 1625\n"
     ]
    }
   ],
   "source": [
    "if Dataset[:5] == 'cifar':\n",
    "    test_generator = x_test\n",
    "    Y_true = y_test\n",
    "    print(np.shape(Y_true))\n",
    "    y_true = np.argmax(Y_true, axis=1)\n",
    "    stepNum=len(test_generator)\n",
    "    print(\"stepNum\",stepNum)\n",
    "else:\n",
    "    # 利用ImageDataGenerator將test樣本讀進來\n",
    "    datagen_test = ImageDataGenerator(rescale= 1/255,)\n",
    "\n",
    "    test_generator = datagen_test.flow_from_directory(dir + 'test',\n",
    "                                                    target_size=(224,224),\n",
    "                                                    batch_size=BATCH_SIZE,\n",
    "                                                    shuffle=False\n",
    "                                                    )\n",
    "    y_true = test_generator.labels\n",
    "    \n",
    "    # test_generator = testset\n",
    "    # y_true = test_generator.labels\n",
    "    \n",
    "    stepNum=len(y_true)\n",
    "    print(\"stepNum\",stepNum)"
   ]
  },
  {
   "cell_type": "code",
   "execution_count": 332,
   "metadata": {},
   "outputs": [
    {
     "name": "stdout",
     "output_type": "stream",
     "text": [
      "./weights/CustomizeSmall/CA_Adam_325 Bird Species/best_model\n"
     ]
    }
   ],
   "source": [
    "model_dir = './weights/{0}/{1}_{2}_{3}/best_model'.format(backbone, SE_CBAM_CA, LR_mode, Dataset)\n",
    "print(model_dir)\n",
    "model = tf.keras.models.load_model(model_dir)"
   ]
  },
  {
   "cell_type": "code",
   "execution_count": 333,
   "metadata": {},
   "outputs": [
    {
     "name": "stdout",
     "output_type": "stream",
     "text": [
      "The FLOPs is:122285556\n"
     ]
    }
   ],
   "source": [
    "# model.summary()\n",
    "print(\"The FLOPs is:{}\".format(get_flops(model)) ,flush=True )"
   ]
  },
  {
   "cell_type": "code",
   "execution_count": 334,
   "metadata": {},
   "outputs": [],
   "source": [
    "# results = model.evaluate(x_test, y_test, batch_size=256)\n",
    "# print(\"test loss, test acc:\", results)"
   ]
  },
  {
   "cell_type": "code",
   "execution_count": 335,
   "metadata": {},
   "outputs": [
    {
     "name": "stdout",
     "output_type": "stream",
     "text": [
      "Mean FPS: 63.33180120412609\n"
     ]
    }
   ],
   "source": [
    "import time\n",
    "\n",
    "mean_FPS=0\n",
    "for i in range(5):\n",
    "    start = time.time()\n",
    "\n",
    "    #利用模型進行預測，記得輸入的test_generator的shuffle內建要是False\n",
    "    Y_pred = model.predict(test_generator,steps=stepNum)\n",
    "\n",
    "    end = time.time()\n",
    "\n",
    "    # Time elapsed\n",
    "    seconds = end - start\n",
    "    FPS = stepNum/seconds\n",
    "    if i==0:\n",
    "        continue\n",
    "    mean_FPS+=FPS\n",
    "    # print(\"FPS:\",FPS)\n",
    "mean_FPS /= 4\n",
    "print('Mean FPS:',mean_FPS)"
   ]
  },
  {
   "cell_type": "code",
   "execution_count": 13,
   "metadata": {},
   "outputs": [
    {
     "name": "stdout",
     "output_type": "stream",
     "text": [
      "Y_pred [[0.00428018 0.00621442 0.00364899 ... 0.00398114 0.00322658 0.0046632 ]\n",
      " [0.0153117  0.04826881 0.01464718 ... 0.01880017 0.8069717  0.0127582 ]\n",
      " [0.03103693 0.5813202  0.01931232 ... 0.00963465 0.30163765 0.01746822]\n",
      " ...\n",
      " [0.00844782 0.01126134 0.00735476 ... 0.01451475 0.01002973 0.01177795]\n",
      " [0.01074918 0.8651472  0.01380077 ... 0.01992019 0.01415553 0.01177843]\n",
      " [0.00632163 0.01086318 0.00457688 ... 0.9360233  0.00616103 0.00613256]]\n",
      "Y_pred.shape (10000, 10)\n",
      "----------------------------------------------------------------------------------------------------\n",
      "y_pred= [3 8 1 ... 5 1 7]\n",
      "y_pred.shape (10000,)\n",
      "----------------------------------------------------------------------------------------------------\n",
      "y_true= [3 8 8 ... 5 1 7]\n",
      "y_true.shape (10000,)\n"
     ]
    }
   ],
   "source": [
    "#預測值。假設有2類，則上述回傳值Y_pred目前是一個40x2(test樣本數x類別數)的矩陣\n",
    "# print('Y_pred',Y_pred)#預測分數\n",
    "# print('Y_pred.shape',Y_pred.shape)\n",
    "# print('-'*100)\n",
    "\n",
    "#分類結果，即每個樣本的判斷結果是什麼。例如兩個類別，y_pred就是0與1，且y_pred是(28,)(test樣本數,)的矩陣\n",
    "y_pred = np.argmax(Y_pred, axis=1)\n",
    "\n",
    "# print('y_pred=',y_pred)\n",
    "# print('y_pred.shape',y_pred.shape)\n",
    "# print('-'*100)\n",
    "\n",
    "# print('y_true=',y_true)\n",
    "# print('y_true.shape',y_true.shape)"
   ]
  },
  {
   "cell_type": "code",
   "execution_count": 14,
   "metadata": {},
   "outputs": [
    {
     "name": "stdout",
     "output_type": "stream",
     "text": [
      "airplane\n",
      "automobile\n",
      "bird\n",
      "cat\n",
      "deer\n",
      "dog\n",
      "frog\n",
      "horse\n",
      "ship\n",
      "truck\n"
     ]
    }
   ],
   "source": [
    "# Name of all classes in CIFAR-100\n",
    "if Dataset=='cifar100':\n",
    "    classes = ['beaver', 'dolphin', 'otter', 'seal', 'whale', \n",
    "    'aquarium' ,'fish', 'ray', 'shark', 'trout', \n",
    "    'orchids', 'poppies', 'roses', 'sunflowers', 'tulips', \n",
    "    'bottles', 'bowls', 'cans', 'cups', 'plates', \n",
    "    'apples', 'mushrooms', 'oranges', 'pears', 'sweet peppers', \n",
    "    'clock', 'computer keyboard', 'lamp', 'telephone', 'television', 'bed', 'chair', 'couch', 'table', 'wardrobe', \n",
    "    'bee', 'beetle', 'butterfly', 'caterpillar', 'cockroach', \n",
    "    'bear', 'leopard', 'lion', 'tiger', 'wolf', \n",
    "    'bridge', 'castle', 'house', 'road', 'skyscraper', \n",
    "    'cloud', 'forest', 'mountain', 'plain', 'sea', \n",
    "    'camel', 'cattle', 'chimpanzee', 'elephant', 'kangaroo', \n",
    "    'fox', 'porcupine', 'possum', 'raccoon', 'skunk', \n",
    "    'crab', 'lobster', 'snail', 'spider', 'worm', \n",
    "    'baby', 'boy', 'girl', 'man', 'woman', \n",
    "    'crocodile', 'dinosaur', 'lizard', 'snake', 'turtle', \n",
    "    'hamster', 'mouse', 'rabbit', 'shrew', 'squirrel', \n",
    "    'maple', 'oak', 'palm', 'pine', 'willow', \n",
    "    'bicycle', 'bus', 'motorcycle', 'pickup truck', 'train', \n",
    "    'lawn-mower', 'rocket', 'streetcar', 'tank', 'tractor']\n",
    "elif Dataset == \"cifar10\":\n",
    "    classes = [\"airplane\", \"automobile\", \"bird\", \"cat\",\n",
    "               \"deer\", \"dog\", \"frog\", \"horse\", \"ship\", \"truck\"]\n",
    "else:\n",
    "    classes =[]"
   ]
  },
  {
   "cell_type": "code",
   "execution_count": 15,
   "metadata": {},
   "outputs": [
    {
     "name": "stdout",
     "output_type": "stream",
     "text": [
      "confusion_matrix:\n",
      "[[922   6   7   4   4   2   5   5  33  12]\n",
      " [  3 963   0   0   0   0   0   2   4  28]\n",
      " [ 38   1 814  22  36  30  30  14   7   8]\n",
      " [ 17   5  31 697  40 110  49  31  10  10]\n",
      " [  4   1  20  10 917  13  17  17   1   0]\n",
      " [  7   1  14  39  30 849  15  40   1   4]\n",
      " [  5   1  13  12  14  12 940   0   0   3]\n",
      " [  4   1   4   4  23   8   2 942   3   9]\n",
      " [ 20   6   3   0   1   1   4   2 948  15]\n",
      " [  8  30   0   2   1   0   0   2  10 947]]\n"
     ]
    },
    {
     "name": "stderr",
     "output_type": "stream",
     "text": [
      "C:\\Users\\user\\AppData\\Local\\Temp\\ipykernel_36368\\2455521637.py:12: UserWarning: FixedFormatter should only be used together with FixedLocator\n",
      "  ax.set_xticklabels([''] + classes)\n",
      "C:\\Users\\user\\AppData\\Local\\Temp\\ipykernel_36368\\2455521637.py:13: UserWarning: FixedFormatter should only be used together with FixedLocator\n",
      "  ax.set_yticklabels([''] + classes)\n"
     ]
    },
    {
     "data": {
      "image/png": "[encoded data removed]",
      "text/plain": [
       "<Figure size 1728x1728 with 2 Axes>"
      ]
     },
     "metadata": {
      "needs_background": "light"
     },
     "output_type": "display_data"
    }
   ],
   "source": [
    "#test_generator.classes為實際28張測試樣本的label，y_pred為預測的label\n",
    "# confusion_matrixRet=confusion_matrix(y_true=y_true,y_pred= y_pred)\n",
    "confusion_matrixRet=confusion_matrix(y_true = y_true, y_pred= y_pred)\n",
    "print('confusion_matrix:')\n",
    "print(confusion_matrixRet)\n",
    "\n",
    "fig = plt.figure(figsize=(24,24))\n",
    "ax = fig.add_subplot(211)\n",
    "cax = ax.matshow(confusion_matrixRet)\n",
    "plt.title('Confusion matrix of the classifier')\n",
    "fig.colorbar(cax)\n",
    "ax.set_xticklabels([''] + classes)\n",
    "ax.set_yticklabels([''] + classes)\n",
    "plt.xlabel('Predicted')\n",
    "plt.ylabel('True')\n",
    "plt.show()"
   ]
  },
  {
   "cell_type": "code",
   "execution_count": null,
   "metadata": {},
   "outputs": [],
   "source": []
  },
  {
   "cell_type": "code",
   "execution_count": 16,
   "metadata": {},
   "outputs": [
    {
     "data": {
      "text/html": [
       "<div>\n",
       "<style scoped>\n",
       "    .dataframe tbody tr th:only-of-type {\n",
       "        vertical-align: middle;\n",
       "    }\n",
       "\n",
       "    .dataframe tbody tr th {\n",
       "        vertical-align: top;\n",
       "    }\n",
       "\n",
       "    .dataframe thead th {\n",
       "        text-align: right;\n",
       "    }\n",
       "</style>\n",
       "<table border=\"1\" class=\"dataframe\">\n",
       "  <thead>\n",
       "    <tr style=\"text-align: right;\">\n",
       "      <th></th>\n",
       "      <th>0</th>\n",
       "      <th>1</th>\n",
       "      <th>2</th>\n",
       "      <th>3</th>\n",
       "      <th>4</th>\n",
       "      <th>5</th>\n",
       "      <th>6</th>\n",
       "      <th>7</th>\n",
       "      <th>8</th>\n",
       "      <th>9</th>\n",
       "    </tr>\n",
       "  </thead>\n",
       "  <tbody>\n",
       "    <tr>\n",
       "      <th>0</th>\n",
       "      <td>922</td>\n",
       "      <td>6</td>\n",
       "      <td>7</td>\n",
       "      <td>4</td>\n",
       "      <td>4</td>\n",
       "      <td>2</td>\n",
       "      <td>5</td>\n",
       "      <td>5</td>\n",
       "      <td>33</td>\n",
       "      <td>12</td>\n",
       "    </tr>\n",
       "    <tr>\n",
       "      <th>1</th>\n",
       "      <td>3</td>\n",
       "      <td>963</td>\n",
       "      <td>0</td>\n",
       "      <td>0</td>\n",
       "      <td>0</td>\n",
       "      <td>0</td>\n",
       "      <td>0</td>\n",
       "      <td>2</td>\n",
       "      <td>4</td>\n",
       "      <td>28</td>\n",
       "    </tr>\n",
       "    <tr>\n",
       "      <th>2</th>\n",
       "      <td>38</td>\n",
       "      <td>1</td>\n",
       "      <td>814</td>\n",
       "      <td>22</td>\n",
       "      <td>36</td>\n",
       "      <td>30</td>\n",
       "      <td>30</td>\n",
       "      <td>14</td>\n",
       "      <td>7</td>\n",
       "      <td>8</td>\n",
       "    </tr>\n",
       "    <tr>\n",
       "      <th>3</th>\n",
       "      <td>17</td>\n",
       "      <td>5</td>\n",
       "      <td>31</td>\n",
       "      <td>697</td>\n",
       "      <td>40</td>\n",
       "      <td>110</td>\n",
       "      <td>49</td>\n",
       "      <td>31</td>\n",
       "      <td>10</td>\n",
       "      <td>10</td>\n",
       "    </tr>\n",
       "    <tr>\n",
       "      <th>4</th>\n",
       "      <td>4</td>\n",
       "      <td>1</td>\n",
       "      <td>20</td>\n",
       "      <td>10</td>\n",
       "      <td>917</td>\n",
       "      <td>13</td>\n",
       "      <td>17</td>\n",
       "      <td>17</td>\n",
       "      <td>1</td>\n",
       "      <td>0</td>\n",
       "    </tr>\n",
       "    <tr>\n",
       "      <th>5</th>\n",
       "      <td>7</td>\n",
       "      <td>1</td>\n",
       "      <td>14</td>\n",
       "      <td>39</td>\n",
       "      <td>30</td>\n",
       "      <td>849</td>\n",
       "      <td>15</td>\n",
       "      <td>40</td>\n",
       "      <td>1</td>\n",
       "      <td>4</td>\n",
       "    </tr>\n",
       "    <tr>\n",
       "      <th>6</th>\n",
       "      <td>5</td>\n",
       "      <td>1</td>\n",
       "      <td>13</td>\n",
       "      <td>12</td>\n",
       "      <td>14</td>\n",
       "      <td>12</td>\n",
       "      <td>940</td>\n",
       "      <td>0</td>\n",
       "      <td>0</td>\n",
       "      <td>3</td>\n",
       "    </tr>\n",
       "    <tr>\n",
       "      <th>7</th>\n",
       "      <td>4</td>\n",
       "      <td>1</td>\n",
       "      <td>4</td>\n",
       "      <td>4</td>\n",
       "      <td>23</td>\n",
       "      <td>8</td>\n",
       "      <td>2</td>\n",
       "      <td>942</td>\n",
       "      <td>3</td>\n",
       "      <td>9</td>\n",
       "    </tr>\n",
       "    <tr>\n",
       "      <th>8</th>\n",
       "      <td>20</td>\n",
       "      <td>6</td>\n",
       "      <td>3</td>\n",
       "      <td>0</td>\n",
       "      <td>1</td>\n",
       "      <td>1</td>\n",
       "      <td>4</td>\n",
       "      <td>2</td>\n",
       "      <td>948</td>\n",
       "      <td>15</td>\n",
       "    </tr>\n",
       "    <tr>\n",
       "      <th>9</th>\n",
       "      <td>8</td>\n",
       "      <td>30</td>\n",
       "      <td>0</td>\n",
       "      <td>2</td>\n",
       "      <td>1</td>\n",
       "      <td>0</td>\n",
       "      <td>0</td>\n",
       "      <td>2</td>\n",
       "      <td>10</td>\n",
       "      <td>947</td>\n",
       "    </tr>\n",
       "  </tbody>\n",
       "</table>\n",
       "</div>"
      ],
      "text/plain": [
       "     0    1    2    3    4    5    6    7    8    9\n",
       "0  922    6    7    4    4    2    5    5   33   12\n",
       "1    3  963    0    0    0    0    0    2    4   28\n",
       "2   38    1  814   22   36   30   30   14    7    8\n",
       "3   17    5   31  697   40  110   49   31   10   10\n",
       "4    4    1   20   10  917   13   17   17    1    0\n",
       "5    7    1   14   39   30  849   15   40    1    4\n",
       "6    5    1   13   12   14   12  940    0    0    3\n",
       "7    4    1    4    4   23    8    2  942    3    9\n",
       "8   20    6    3    0    1    1    4    2  948   15\n",
       "9    8   30    0    2    1    0    0    2   10  947"
      ]
     },
     "execution_count": 16,
     "metadata": {},
     "output_type": "execute_result"
    }
   ],
   "source": [
    "# DF = pd.DataFrame(confusion_matrixRet, columns=classes, index=classes)\n",
    "DF = pd.DataFrame(confusion_matrixRet)\n",
    "DF\n",
    "# DF.to_csv('confusion_matrix.csv')"
   ]
  },
  {
   "cell_type": "code",
   "execution_count": 17,
   "metadata": {},
   "outputs": [],
   "source": [
    "#classification_report, 可以自動算出precision,recall與f1-score\n",
    "# target_name = ['covid_19', 'lungopacity', 'normal', 'viralpneumonia']\n",
    "classification_reports = classification_report(y_true = y_true,\n",
    "                                              y_pred= y_pred,\n",
    "                                              # target_names=target_name,\n",
    "                                              output_dict=True\n",
    "                                             )\n",
    "# print(classification_report)#會輸出precision、recall與f1-score。"
   ]
  },
  {
   "cell_type": "code",
   "execution_count": 18,
   "metadata": {},
   "outputs": [
    {
     "data": {
      "text/html": [
       "<div>\n",
       "<style scoped>\n",
       "    .dataframe tbody tr th:only-of-type {\n",
       "        vertical-align: middle;\n",
       "    }\n",
       "\n",
       "    .dataframe tbody tr th {\n",
       "        vertical-align: top;\n",
       "    }\n",
       "\n",
       "    .dataframe thead th {\n",
       "        text-align: right;\n",
       "    }\n",
       "</style>\n",
       "<table border=\"1\" class=\"dataframe\">\n",
       "  <thead>\n",
       "    <tr style=\"text-align: right;\">\n",
       "      <th></th>\n",
       "      <th>precision</th>\n",
       "      <th>recall</th>\n",
       "      <th>f1-score</th>\n",
       "      <th>support</th>\n",
       "    </tr>\n",
       "  </thead>\n",
       "  <tbody>\n",
       "    <tr>\n",
       "      <th>0</th>\n",
       "      <td>0.896887</td>\n",
       "      <td>0.922</td>\n",
       "      <td>0.909270</td>\n",
       "      <td>1000</td>\n",
       "    </tr>\n",
       "    <tr>\n",
       "      <th>1</th>\n",
       "      <td>0.948768</td>\n",
       "      <td>0.963</td>\n",
       "      <td>0.955831</td>\n",
       "      <td>1000</td>\n",
       "    </tr>\n",
       "    <tr>\n",
       "      <th>2</th>\n",
       "      <td>0.898455</td>\n",
       "      <td>0.814</td>\n",
       "      <td>0.854145</td>\n",
       "      <td>1000</td>\n",
       "    </tr>\n",
       "    <tr>\n",
       "      <th>3</th>\n",
       "      <td>0.882278</td>\n",
       "      <td>0.697</td>\n",
       "      <td>0.778771</td>\n",
       "      <td>1000</td>\n",
       "    </tr>\n",
       "    <tr>\n",
       "      <th>4</th>\n",
       "      <td>0.860225</td>\n",
       "      <td>0.917</td>\n",
       "      <td>0.887706</td>\n",
       "      <td>1000</td>\n",
       "    </tr>\n",
       "    <tr>\n",
       "      <th>5</th>\n",
       "      <td>0.828293</td>\n",
       "      <td>0.849</td>\n",
       "      <td>0.838519</td>\n",
       "      <td>1000</td>\n",
       "    </tr>\n",
       "    <tr>\n",
       "      <th>6</th>\n",
       "      <td>0.885122</td>\n",
       "      <td>0.94</td>\n",
       "      <td>0.911736</td>\n",
       "      <td>1000</td>\n",
       "    </tr>\n",
       "    <tr>\n",
       "      <th>7</th>\n",
       "      <td>0.892891</td>\n",
       "      <td>0.942</td>\n",
       "      <td>0.916788</td>\n",
       "      <td>1000</td>\n",
       "    </tr>\n",
       "    <tr>\n",
       "      <th>8</th>\n",
       "      <td>0.932153</td>\n",
       "      <td>0.948</td>\n",
       "      <td>0.940010</td>\n",
       "      <td>1000</td>\n",
       "    </tr>\n",
       "    <tr>\n",
       "      <th>9</th>\n",
       "      <td>0.914093</td>\n",
       "      <td>0.947</td>\n",
       "      <td>0.930255</td>\n",
       "      <td>1000</td>\n",
       "    </tr>\n",
       "    <tr>\n",
       "      <th>accuracy</th>\n",
       "      <td></td>\n",
       "      <td></td>\n",
       "      <td>0.893900</td>\n",
       "      <td></td>\n",
       "    </tr>\n",
       "    <tr>\n",
       "      <th>macro avg</th>\n",
       "      <td>0.893917</td>\n",
       "      <td>0.8939</td>\n",
       "      <td>0.892303</td>\n",
       "      <td>10000</td>\n",
       "    </tr>\n",
       "    <tr>\n",
       "      <th>weighted avg</th>\n",
       "      <td>0.893917</td>\n",
       "      <td>0.8939</td>\n",
       "      <td>0.892303</td>\n",
       "      <td>10000</td>\n",
       "    </tr>\n",
       "  </tbody>\n",
       "</table>\n",
       "</div>"
      ],
      "text/plain": [
       "             precision  recall  f1-score support\n",
       "0             0.896887   0.922  0.909270    1000\n",
       "1             0.948768   0.963  0.955831    1000\n",
       "2             0.898455   0.814  0.854145    1000\n",
       "3             0.882278   0.697  0.778771    1000\n",
       "4             0.860225   0.917  0.887706    1000\n",
       "5             0.828293   0.849  0.838519    1000\n",
       "6             0.885122    0.94  0.911736    1000\n",
       "7             0.892891   0.942  0.916788    1000\n",
       "8             0.932153   0.948  0.940010    1000\n",
       "9             0.914093   0.947  0.930255    1000\n",
       "accuracy                        0.893900        \n",
       "macro avg     0.893917  0.8939  0.892303   10000\n",
       "weighted avg  0.893917  0.8939  0.892303   10000"
      ]
     },
     "execution_count": 18,
     "metadata": {},
     "output_type": "execute_result"
    }
   ],
   "source": [
    "Dict =  classification_reports\n",
    "Col = []\n",
    "for i in Dict:\n",
    "    Col.append(i)\n",
    "\n",
    "precision=[]\n",
    "recall=[]\n",
    "f1_score=[]\n",
    "support=[]\n",
    "\n",
    "for i in Col:\n",
    "    if i == 'accuracy':\n",
    "        precision.append('')\n",
    "        recall.append('')\n",
    "        f1_score.append(Dict[i])\n",
    "        support.append('')\n",
    "    else:\n",
    "        precision.append(Dict[i]['precision'])\n",
    "        recall.append(Dict[i]['recall'])\n",
    "        f1_score.append(Dict[i]['f1-score'])\n",
    "        support.append(Dict[i]['support'])  \n",
    "\n",
    "Data = {'precision':precision,\n",
    "            'recall': recall,\n",
    "            'f1-score': f1_score,\n",
    "            'support': support}\n",
    "\n",
    "DF = pd.DataFrame(Data,index=Col)\n",
    "# DF.to_csv(\"Accuracy.csv\")\n",
    "DF"
   ]
  }
 ],
 "metadata": {
  "interpreter": {
   "hash": "a480b68b8c343a8999e692c3d6d2f5bf9e4da97c94672fb67f8d413f9dcb69e4"
  },
  "kernelspec": {
   "display_name": "Python 3.8.5 ('tf26')",
   "language": "python",
   "name": "python3"
  },
  "language_info": {
   "codemirror_mode": {
    "name": "ipython",
    "version": 3
   },
   "file_extension": ".py",
   "mimetype": "text/x-python",
   "name": "python",
   "nbconvert_exporter": "python",
   "pygments_lexer": "ipython3",
   "version": "3.8.5"
  }
 },
 "nbformat": 4,
 "nbformat_minor": 4
}
